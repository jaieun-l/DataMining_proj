{
 "cells": [
  {
   "cell_type": "code",
   "execution_count": 1,
   "id": "KuD25jaTtoRb",
   "metadata": {
    "colab": {
     "base_uri": "https://localhost:8080/"
    },
    "executionInfo": {
     "elapsed": 3235,
     "status": "ok",
     "timestamp": 1622976429327,
     "user": {
      "displayName": "지연",
      "photoUrl": "",
      "userId": "03997912264803474021"
     },
     "user_tz": -540
    },
    "id": "KuD25jaTtoRb",
    "outputId": "744eb644-9096-42c9-bc58-ded8956a88f8"
   },
   "outputs": [],
   "source": [
    "!pip install metrics"
   ]
  },
  {
   "cell_type": "code",
   "execution_count": 2,
   "id": "another-balance",
   "metadata": {
    "colab": {
     "base_uri": "https://localhost:8080/"
    },
    "executionInfo": {
     "elapsed": 690,
     "status": "ok",
     "timestamp": 1622976430009,
     "user": {
      "displayName": "지연",
      "photoUrl": "",
      "userId": "03997912264803474021"
     },
     "user_tz": -540
    },
    "id": "another-balance",
    "outputId": "2d9588bc-d8b0-4411-ec03-30ac7dfca828"
   },
   "outputs": [],
   "source": [
    "import numpy as np\n",
    "import pandas as pd\n",
    "import statsmodels.api as sm\n",
    "import matplotlib.pyplot as plt\n",
    "import seaborn as sn\n",
    "import matplotlib.font_manager as fm\n",
    "import sklearn.metrics as metrics\n",
    "\n",
    "import warnings\n",
    "warnings.filterwarnings(\"ignore\")\n",
    "\n",
    "plt.rcParams['font.family'] = 'NanumGothic'"
   ]
  },
  {
   "cell_type": "code",
   "execution_count": 3,
   "id": "dense-kruger",
   "metadata": {
    "executionInfo": {
     "elapsed": 7,
     "status": "ok",
     "timestamp": 1622976430010,
     "user": {
      "displayName": "지연",
      "photoUrl": "",
      "userId": "03997912264803474021"
     },
     "user_tz": -540
    },
    "id": "dense-kruger"
   },
   "outputs": [],
   "source": [
    "from sklearn.preprocessing import MinMaxScaler\n",
    "from sklearn.preprocessing import StandardScaler\n",
    "from sklearn.model_selection import train_test_split\n",
    "\n",
    "from sklearn.linear_model import LogisticRegression # 모델 생성 \n",
    "from sklearn.metrics import accuracy_score, precision_score, recall_score, f1_score, roc_auc_score, confusion_matrix # 모델 평가 "
   ]
  },
  {
   "cell_type": "code",
   "execution_count": 4,
   "id": "OdjCILicae-i",
   "metadata": {
    "executionInfo": {
     "elapsed": 7,
     "status": "ok",
     "timestamp": 1622976430010,
     "user": {
      "displayName": "지연",
      "photoUrl": "",
      "userId": "03997912264803474021"
     },
     "user_tz": -540
    },
    "id": "OdjCILicae-i"
   },
   "outputs": [],
   "source": [
    "path = 'data/'\n",
    "\n",
    "def load_data(name) :\n",
    "    data = pd.read_csv(path + name + '.csv')\n",
    "    data = data.drop(columns='Unnamed: 0')\n",
    "    return data\n",
    "    \n",
    "x_train = load_data('x_train')\n",
    "x_test = load_data('x_test')\n",
    "y_train = load_data('y_train')\n",
    "y_test = load_data('y_test')"
   ]
  },
  {
   "cell_type": "code",
   "execution_count": 5,
   "id": "tmb5bffeycek",
   "metadata": {
    "colab": {
     "base_uri": "https://localhost:8080/",
     "height": 439
    },
    "executionInfo": {
     "elapsed": 417,
     "status": "ok",
     "timestamp": 1622976430421,
     "user": {
      "displayName": "지연",
      "photoUrl": "",
      "userId": "03997912264803474021"
     },
     "user_tz": -540
    },
    "id": "tmb5bffeycek",
    "outputId": "54c83bb7-1dbc-4a9d-f929-b67f78c632ae"
   },
   "outputs": [
    {
     "data": {
      "text/html": [
       "<div>\n",
       "<style scoped>\n",
       "    .dataframe tbody tr th:only-of-type {\n",
       "        vertical-align: middle;\n",
       "    }\n",
       "\n",
       "    .dataframe tbody tr th {\n",
       "        vertical-align: top;\n",
       "    }\n",
       "\n",
       "    .dataframe thead th {\n",
       "        text-align: right;\n",
       "    }\n",
       "</style>\n",
       "<table border=\"1\" class=\"dataframe\">\n",
       "  <thead>\n",
       "    <tr style=\"text-align: right;\">\n",
       "      <th></th>\n",
       "      <th>Gender</th>\n",
       "      <th>customer_type</th>\n",
       "      <th>type_of_travel</th>\n",
       "      <th>customer_class</th>\n",
       "      <th>inflight_wifi_service</th>\n",
       "      <th>departure_arrival_time_convenient</th>\n",
       "      <th>ease_of_online_booking</th>\n",
       "      <th>gate_location</th>\n",
       "      <th>food_and_drink</th>\n",
       "      <th>online_boarding</th>\n",
       "      <th>...</th>\n",
       "      <th>inflight_entertainment</th>\n",
       "      <th>onboard_service</th>\n",
       "      <th>leg_room_service</th>\n",
       "      <th>baggage_handling</th>\n",
       "      <th>checkin_service</th>\n",
       "      <th>inflight_service</th>\n",
       "      <th>cleanliness</th>\n",
       "      <th>age</th>\n",
       "      <th>flight_distance</th>\n",
       "      <th>all_delay_in_minutes</th>\n",
       "    </tr>\n",
       "  </thead>\n",
       "  <tbody>\n",
       "    <tr>\n",
       "      <th>0</th>\n",
       "      <td>1</td>\n",
       "      <td>0</td>\n",
       "      <td>1</td>\n",
       "      <td>1</td>\n",
       "      <td>1</td>\n",
       "      <td>5</td>\n",
       "      <td>1</td>\n",
       "      <td>3</td>\n",
       "      <td>1</td>\n",
       "      <td>1</td>\n",
       "      <td>...</td>\n",
       "      <td>1</td>\n",
       "      <td>1</td>\n",
       "      <td>2</td>\n",
       "      <td>4</td>\n",
       "      <td>1</td>\n",
       "      <td>5</td>\n",
       "      <td>1</td>\n",
       "      <td>49</td>\n",
       "      <td>954</td>\n",
       "      <td>0.0</td>\n",
       "    </tr>\n",
       "    <tr>\n",
       "      <th>1</th>\n",
       "      <td>0</td>\n",
       "      <td>0</td>\n",
       "      <td>0</td>\n",
       "      <td>0</td>\n",
       "      <td>4</td>\n",
       "      <td>4</td>\n",
       "      <td>4</td>\n",
       "      <td>4</td>\n",
       "      <td>3</td>\n",
       "      <td>5</td>\n",
       "      <td>...</td>\n",
       "      <td>4</td>\n",
       "      <td>4</td>\n",
       "      <td>4</td>\n",
       "      <td>4</td>\n",
       "      <td>3</td>\n",
       "      <td>4</td>\n",
       "      <td>4</td>\n",
       "      <td>44</td>\n",
       "      <td>3549</td>\n",
       "      <td>0.0</td>\n",
       "    </tr>\n",
       "    <tr>\n",
       "      <th>2</th>\n",
       "      <td>1</td>\n",
       "      <td>1</td>\n",
       "      <td>0</td>\n",
       "      <td>1</td>\n",
       "      <td>5</td>\n",
       "      <td>0</td>\n",
       "      <td>5</td>\n",
       "      <td>2</td>\n",
       "      <td>2</td>\n",
       "      <td>5</td>\n",
       "      <td>...</td>\n",
       "      <td>2</td>\n",
       "      <td>5</td>\n",
       "      <td>3</td>\n",
       "      <td>5</td>\n",
       "      <td>3</td>\n",
       "      <td>4</td>\n",
       "      <td>2</td>\n",
       "      <td>22</td>\n",
       "      <td>650</td>\n",
       "      <td>-3.0</td>\n",
       "    </tr>\n",
       "    <tr>\n",
       "      <th>3</th>\n",
       "      <td>1</td>\n",
       "      <td>1</td>\n",
       "      <td>0</td>\n",
       "      <td>0</td>\n",
       "      <td>1</td>\n",
       "      <td>0</td>\n",
       "      <td>1</td>\n",
       "      <td>5</td>\n",
       "      <td>5</td>\n",
       "      <td>1</td>\n",
       "      <td>...</td>\n",
       "      <td>5</td>\n",
       "      <td>3</td>\n",
       "      <td>4</td>\n",
       "      <td>5</td>\n",
       "      <td>3</td>\n",
       "      <td>5</td>\n",
       "      <td>5</td>\n",
       "      <td>26</td>\n",
       "      <td>429</td>\n",
       "      <td>0.0</td>\n",
       "    </tr>\n",
       "    <tr>\n",
       "      <th>4</th>\n",
       "      <td>0</td>\n",
       "      <td>1</td>\n",
       "      <td>0</td>\n",
       "      <td>1</td>\n",
       "      <td>1</td>\n",
       "      <td>1</td>\n",
       "      <td>1</td>\n",
       "      <td>2</td>\n",
       "      <td>2</td>\n",
       "      <td>1</td>\n",
       "      <td>...</td>\n",
       "      <td>2</td>\n",
       "      <td>3</td>\n",
       "      <td>5</td>\n",
       "      <td>2</td>\n",
       "      <td>4</td>\n",
       "      <td>3</td>\n",
       "      <td>2</td>\n",
       "      <td>24</td>\n",
       "      <td>852</td>\n",
       "      <td>-9.0</td>\n",
       "    </tr>\n",
       "    <tr>\n",
       "      <th>...</th>\n",
       "      <td>...</td>\n",
       "      <td>...</td>\n",
       "      <td>...</td>\n",
       "      <td>...</td>\n",
       "      <td>...</td>\n",
       "      <td>...</td>\n",
       "      <td>...</td>\n",
       "      <td>...</td>\n",
       "      <td>...</td>\n",
       "      <td>...</td>\n",
       "      <td>...</td>\n",
       "      <td>...</td>\n",
       "      <td>...</td>\n",
       "      <td>...</td>\n",
       "      <td>...</td>\n",
       "      <td>...</td>\n",
       "      <td>...</td>\n",
       "      <td>...</td>\n",
       "      <td>...</td>\n",
       "      <td>...</td>\n",
       "      <td>...</td>\n",
       "    </tr>\n",
       "    <tr>\n",
       "      <th>90635</th>\n",
       "      <td>1</td>\n",
       "      <td>0</td>\n",
       "      <td>0</td>\n",
       "      <td>0</td>\n",
       "      <td>4</td>\n",
       "      <td>4</td>\n",
       "      <td>4</td>\n",
       "      <td>4</td>\n",
       "      <td>4</td>\n",
       "      <td>5</td>\n",
       "      <td>...</td>\n",
       "      <td>5</td>\n",
       "      <td>5</td>\n",
       "      <td>5</td>\n",
       "      <td>5</td>\n",
       "      <td>4</td>\n",
       "      <td>5</td>\n",
       "      <td>4</td>\n",
       "      <td>42</td>\n",
       "      <td>1795</td>\n",
       "      <td>0.0</td>\n",
       "    </tr>\n",
       "    <tr>\n",
       "      <th>90636</th>\n",
       "      <td>1</td>\n",
       "      <td>0</td>\n",
       "      <td>0</td>\n",
       "      <td>0</td>\n",
       "      <td>5</td>\n",
       "      <td>5</td>\n",
       "      <td>5</td>\n",
       "      <td>5</td>\n",
       "      <td>3</td>\n",
       "      <td>2</td>\n",
       "      <td>...</td>\n",
       "      <td>4</td>\n",
       "      <td>4</td>\n",
       "      <td>4</td>\n",
       "      <td>4</td>\n",
       "      <td>1</td>\n",
       "      <td>4</td>\n",
       "      <td>2</td>\n",
       "      <td>39</td>\n",
       "      <td>2275</td>\n",
       "      <td>0.0</td>\n",
       "    </tr>\n",
       "    <tr>\n",
       "      <th>90637</th>\n",
       "      <td>1</td>\n",
       "      <td>0</td>\n",
       "      <td>1</td>\n",
       "      <td>1</td>\n",
       "      <td>4</td>\n",
       "      <td>5</td>\n",
       "      <td>5</td>\n",
       "      <td>3</td>\n",
       "      <td>4</td>\n",
       "      <td>5</td>\n",
       "      <td>...</td>\n",
       "      <td>4</td>\n",
       "      <td>3</td>\n",
       "      <td>5</td>\n",
       "      <td>1</td>\n",
       "      <td>2</td>\n",
       "      <td>4</td>\n",
       "      <td>4</td>\n",
       "      <td>12</td>\n",
       "      <td>679</td>\n",
       "      <td>0.0</td>\n",
       "    </tr>\n",
       "    <tr>\n",
       "      <th>90638</th>\n",
       "      <td>0</td>\n",
       "      <td>1</td>\n",
       "      <td>0</td>\n",
       "      <td>0</td>\n",
       "      <td>2</td>\n",
       "      <td>2</td>\n",
       "      <td>2</td>\n",
       "      <td>5</td>\n",
       "      <td>1</td>\n",
       "      <td>2</td>\n",
       "      <td>...</td>\n",
       "      <td>1</td>\n",
       "      <td>4</td>\n",
       "      <td>5</td>\n",
       "      <td>4</td>\n",
       "      <td>3</td>\n",
       "      <td>5</td>\n",
       "      <td>1</td>\n",
       "      <td>58</td>\n",
       "      <td>294</td>\n",
       "      <td>0.0</td>\n",
       "    </tr>\n",
       "    <tr>\n",
       "      <th>90639</th>\n",
       "      <td>1</td>\n",
       "      <td>0</td>\n",
       "      <td>0</td>\n",
       "      <td>0</td>\n",
       "      <td>2</td>\n",
       "      <td>2</td>\n",
       "      <td>2</td>\n",
       "      <td>2</td>\n",
       "      <td>3</td>\n",
       "      <td>5</td>\n",
       "      <td>...</td>\n",
       "      <td>4</td>\n",
       "      <td>4</td>\n",
       "      <td>4</td>\n",
       "      <td>4</td>\n",
       "      <td>3</td>\n",
       "      <td>4</td>\n",
       "      <td>3</td>\n",
       "      <td>39</td>\n",
       "      <td>3324</td>\n",
       "      <td>-9.0</td>\n",
       "    </tr>\n",
       "  </tbody>\n",
       "</table>\n",
       "<p>90640 rows × 21 columns</p>\n",
       "</div>"
      ],
      "text/plain": [
       "       Gender  customer_type  type_of_travel  customer_class  \\\n",
       "0           1              0               1               1   \n",
       "1           0              0               0               0   \n",
       "2           1              1               0               1   \n",
       "3           1              1               0               0   \n",
       "4           0              1               0               1   \n",
       "...       ...            ...             ...             ...   \n",
       "90635       1              0               0               0   \n",
       "90636       1              0               0               0   \n",
       "90637       1              0               1               1   \n",
       "90638       0              1               0               0   \n",
       "90639       1              0               0               0   \n",
       "\n",
       "       inflight_wifi_service  departure_arrival_time_convenient  \\\n",
       "0                          1                                  5   \n",
       "1                          4                                  4   \n",
       "2                          5                                  0   \n",
       "3                          1                                  0   \n",
       "4                          1                                  1   \n",
       "...                      ...                                ...   \n",
       "90635                      4                                  4   \n",
       "90636                      5                                  5   \n",
       "90637                      4                                  5   \n",
       "90638                      2                                  2   \n",
       "90639                      2                                  2   \n",
       "\n",
       "       ease_of_online_booking  gate_location  food_and_drink  online_boarding  \\\n",
       "0                           1              3               1                1   \n",
       "1                           4              4               3                5   \n",
       "2                           5              2               2                5   \n",
       "3                           1              5               5                1   \n",
       "4                           1              2               2                1   \n",
       "...                       ...            ...             ...              ...   \n",
       "90635                       4              4               4                5   \n",
       "90636                       5              5               3                2   \n",
       "90637                       5              3               4                5   \n",
       "90638                       2              5               1                2   \n",
       "90639                       2              2               3                5   \n",
       "\n",
       "       ...  inflight_entertainment  onboard_service  leg_room_service  \\\n",
       "0      ...                       1                1                 2   \n",
       "1      ...                       4                4                 4   \n",
       "2      ...                       2                5                 3   \n",
       "3      ...                       5                3                 4   \n",
       "4      ...                       2                3                 5   \n",
       "...    ...                     ...              ...               ...   \n",
       "90635  ...                       5                5                 5   \n",
       "90636  ...                       4                4                 4   \n",
       "90637  ...                       4                3                 5   \n",
       "90638  ...                       1                4                 5   \n",
       "90639  ...                       4                4                 4   \n",
       "\n",
       "       baggage_handling  checkin_service  inflight_service  cleanliness  age  \\\n",
       "0                     4                1                 5            1   49   \n",
       "1                     4                3                 4            4   44   \n",
       "2                     5                3                 4            2   22   \n",
       "3                     5                3                 5            5   26   \n",
       "4                     2                4                 3            2   24   \n",
       "...                 ...              ...               ...          ...  ...   \n",
       "90635                 5                4                 5            4   42   \n",
       "90636                 4                1                 4            2   39   \n",
       "90637                 1                2                 4            4   12   \n",
       "90638                 4                3                 5            1   58   \n",
       "90639                 4                3                 4            3   39   \n",
       "\n",
       "       flight_distance  all_delay_in_minutes  \n",
       "0                  954                   0.0  \n",
       "1                 3549                   0.0  \n",
       "2                  650                  -3.0  \n",
       "3                  429                   0.0  \n",
       "4                  852                  -9.0  \n",
       "...                ...                   ...  \n",
       "90635             1795                   0.0  \n",
       "90636             2275                   0.0  \n",
       "90637              679                   0.0  \n",
       "90638              294                   0.0  \n",
       "90639             3324                  -9.0  \n",
       "\n",
       "[90640 rows x 21 columns]"
      ]
     },
     "execution_count": 5,
     "metadata": {},
     "output_type": "execute_result"
    }
   ],
   "source": [
    "# 지연 시간 변수 생성 (all_delay_in_minutes : 도착-출발)\n",
    "x_train.insert(len(x_train.columns) - 1,'all_delay_in_minutes', x_train['arrival_delay_in_minutes'] - x_train['departure_delay_in_minutes'])\n",
    "x_test.insert(len(x_test.columns) - 1,'all_delay_in_minutes', x_test['arrival_delay_in_minutes'] - x_test['departure_delay_in_minutes'])\n",
    "\n",
    "# 출발, 도착 변수 삭제\n",
    "x_train = x_train.drop(['arrival_delay_in_minutes', 'departure_delay_in_minutes'], axis = 1)\n",
    "x_test = x_test.drop(['arrival_delay_in_minutes', 'departure_delay_in_minutes'], axis = 1)\n",
    "\n",
    "x_train # 90640 row, 21 column\n",
    "# x_test # 38846 row, 21 column"
   ]
  },
  {
   "cell_type": "code",
   "execution_count": 6,
   "id": "lucky-quality",
   "metadata": {
    "colab": {
     "base_uri": "https://localhost:8080/",
     "height": 749
    },
    "executionInfo": {
     "elapsed": 4098,
     "status": "ok",
     "timestamp": 1622976434515,
     "user": {
      "displayName": "지연",
      "photoUrl": "",
      "userId": "03997912264803474021"
     },
     "user_tz": -540
    },
    "id": "lucky-quality",
    "outputId": "61156969-d5f6-4784-c343-e83f2e89fc03"
   },
   "outputs": [
    {
     "data": {
      "text/plain": [
       "array([[<AxesSubplot:title={'center':'Gender'}>,\n",
       "        <AxesSubplot:title={'center':'customer_type'}>,\n",
       "        <AxesSubplot:title={'center':'type_of_travel'}>,\n",
       "        <AxesSubplot:title={'center':'customer_class'}>,\n",
       "        <AxesSubplot:title={'center':'inflight_wifi_service'}>],\n",
       "       [<AxesSubplot:title={'center':'departure_arrival_time_convenient'}>,\n",
       "        <AxesSubplot:title={'center':'ease_of_online_booking'}>,\n",
       "        <AxesSubplot:title={'center':'gate_location'}>,\n",
       "        <AxesSubplot:title={'center':'food_and_drink'}>,\n",
       "        <AxesSubplot:title={'center':'online_boarding'}>],\n",
       "       [<AxesSubplot:title={'center':'seat_comfort'}>,\n",
       "        <AxesSubplot:title={'center':'inflight_entertainment'}>,\n",
       "        <AxesSubplot:title={'center':'onboard_service'}>,\n",
       "        <AxesSubplot:title={'center':'leg_room_service'}>,\n",
       "        <AxesSubplot:title={'center':'baggage_handling'}>],\n",
       "       [<AxesSubplot:title={'center':'checkin_service'}>,\n",
       "        <AxesSubplot:title={'center':'inflight_service'}>,\n",
       "        <AxesSubplot:title={'center':'cleanliness'}>,\n",
       "        <AxesSubplot:title={'center':'age'}>,\n",
       "        <AxesSubplot:title={'center':'flight_distance'}>],\n",
       "       [<AxesSubplot:title={'center':'all_delay_in_minutes'}>,\n",
       "        <AxesSubplot:title={'center':'satisfaction'}>, <AxesSubplot:>,\n",
       "        <AxesSubplot:>, <AxesSubplot:>]], dtype=object)"
      ]
     },
     "execution_count": 6,
     "metadata": {},
     "output_type": "execute_result"
    },
    {
     "data": {
      "image/png": "[encoded data removed]",
      "text/plain": [
       "<Figure size 432x288 with 25 Axes>"
      ]
     },
     "metadata": {
      "needs_background": "light"
     },
     "output_type": "display_data"
    }
   ],
   "source": [
    "# 히스토그램\n",
    "data_x = pd.concat([x_train, x_test], axis = 0)\n",
    "data_y = pd.concat([y_train, y_test], axis = 0)\n",
    "\n",
    "data = pd.concat([data_x, data_y], axis = 1)\n",
    "data.hist()"
   ]
  },
  {
   "cell_type": "code",
   "execution_count": 7,
   "id": "tVhs2t3a_Y9l",
   "metadata": {
    "colab": {
     "base_uri": "https://localhost:8080/",
     "height": 466
    },
    "executionInfo": {
     "elapsed": 13,
     "status": "ok",
     "timestamp": 1622976434517,
     "user": {
      "displayName": "지연",
      "photoUrl": "",
      "userId": "03997912264803474021"
     },
     "user_tz": -540
    },
    "id": "tVhs2t3a_Y9l",
    "outputId": "5057a7b8-6274-46d9-d640-41c14982aa47"
   },
   "outputs": [
    {
     "data": {
      "text/plain": [
       "(array([ 1,  2,  3,  4,  5,  6,  7,  8,  9, 10, 11, 12, 13, 14, 15, 16, 17,\n",
       "        18, 19, 20, 21]),\n",
       " [Text(1, 0, 'Gender'),\n",
       "  Text(2, 0, 'customer_type'),\n",
       "  Text(3, 0, 'type_of_travel'),\n",
       "  Text(4, 0, 'customer_class'),\n",
       "  Text(5, 0, 'inflight_wifi_service'),\n",
       "  Text(6, 0, 'departure_arrival_time_convenient'),\n",
       "  Text(7, 0, 'ease_of_online_booking'),\n",
       "  Text(8, 0, 'gate_location'),\n",
       "  Text(9, 0, 'food_and_drink'),\n",
       "  Text(10, 0, 'online_boarding'),\n",
       "  Text(11, 0, 'seat_comfort'),\n",
       "  Text(12, 0, 'inflight_entertainment'),\n",
       "  Text(13, 0, 'onboard_service'),\n",
       "  Text(14, 0, 'leg_room_service'),\n",
       "  Text(15, 0, 'baggage_handling'),\n",
       "  Text(16, 0, 'checkin_service'),\n",
       "  Text(17, 0, 'inflight_service'),\n",
       "  Text(18, 0, 'cleanliness'),\n",
       "  Text(19, 0, 'age'),\n",
       "  Text(20, 0, 'flight_distance'),\n",
       "  Text(21, 0, 'all_delay_in_minutes')])"
      ]
     },
     "execution_count": 7,
     "metadata": {},
     "output_type": "execute_result"
    },
    {
     "data": {
      "image/png": "[encoded data removed]",
      "text/plain": [
       "<Figure size 432x288 with 1 Axes>"
      ]
     },
     "metadata": {
      "needs_background": "light"
     },
     "output_type": "display_data"
    }
   ],
   "source": [
    "data_x.boxplot()\n",
    "plt.xticks(rotation=90)"
   ]
  },
  {
   "cell_type": "markdown",
   "id": "W77o04A2q5a3",
   "metadata": {
    "id": "W77o04A2q5a3"
   },
   "source": [
    "## 함수 선언"
   ]
  },
  {
   "cell_type": "code",
   "execution_count": 8,
   "id": "zNLj_iS7VY84",
   "metadata": {
    "executionInfo": {
     "elapsed": 13,
     "status": "ok",
     "timestamp": 1622976435109,
     "user": {
      "displayName": "지연",
      "photoUrl": "",
      "userId": "03997912264803474021"
     },
     "user_tz": -540
    },
    "id": "zNLj_iS7VY84"
   },
   "outputs": [],
   "source": [
    "# 분류정확도 평가 지표\n",
    "\n",
    "def con_matrix(model, y_test, y_pred):\n",
    "\n",
    "    accuracy = accuracy_score(y_test, y_pred)\n",
    "    precision = precision_score(y_test, y_pred)\n",
    "    recall = recall_score(y_test, y_pred)\n",
    "    F1 = f1_score(y_test, y_pred)\n",
    "    AUC = roc_auc_score(y_test, y_pred)\n",
    "\n",
    "    con_mat = confusion_matrix(y_true=y_test, y_pred=y_pred) \n",
    "    \n",
    "    plt.figure(figsize=(6,6))\n",
    "    sn.heatmap(con_mat, annot=True, fmt=\".3f\", linewidths=.5, cmap = 'Blues_r', square = True)\n",
    "    plt.ylabel('Actual label'); \n",
    "    plt.xlabel('Predicted label'); \n",
    "    all_sample_title = 'Accuracy Score: {:.4f}'.format(accuracy) \n",
    "    plt.title(all_sample_title, size = 14) \n",
    "    plt.show()\n",
    "    \n",
    "    print('Precision:{:.4f}'.format(precision))\n",
    "    print('Recall: {:.4f}'.format(recall))\n",
    "    print('F1: {:.4f}'.format(F1))\n",
    "    print('AUC: {:.4f}'.format(AUC))"
   ]
  },
  {
   "cell_type": "code",
   "execution_count": 9,
   "id": "Wl1sV7h0MuFK",
   "metadata": {
    "executionInfo": {
     "elapsed": 13,
     "status": "ok",
     "timestamp": 1622976435110,
     "user": {
      "displayName": "지연",
      "photoUrl": "",
      "userId": "03997912264803474021"
     },
     "user_tz": -540
    },
    "id": "Wl1sV7h0MuFK"
   },
   "outputs": [],
   "source": [
    "# 변수 중요도\n",
    "\n",
    "def sensitivity_analysis_LinearReg_LogitReg(task, model, X, idx, bar_plot_yn):\n",
    "    pd.options.mode.chained_assignment = None\n",
    "\n",
    "    X_i = X.iloc[idx, :]\n",
    "    \n",
    "    X_mat = np.zeros(shape=[X_i.shape[0], X_i.shape[0]])\n",
    "\n",
    "    for i, j in enumerate(X_i):\n",
    "        X_mat[i, i] = j\n",
    "\n",
    "    sensitivity_df = pd.DataFrame({\n",
    "        'idx': idx\n",
    "        , 'task': task\n",
    "        , 'x': X_i\n",
    "        , 'contribution_x': model.predict(X_mat)     \n",
    "    })\n",
    "\n",
    "    sensitivity_df = sensitivity_df.sort_values(by='contribution_x', ascending=True)\n",
    "\n",
    "    col_n = X_i.shape[0]\n",
    "\n",
    "    if bar_plot_yn == True:\n",
    "        sensitivity_df['contribution_x'].plot(kind='barh', figsize=(10, 6), color='skyblue')\n",
    "        plt.title('로지스틱 회귀 분석에서의 변수 중요도', fontsize=18)\n",
    "        plt.xlabel('Imfortance', fontsize=16)\n",
    "        plt.ylabel('Variable', fontsize=16)\n",
    "        plt.yticks(fontsize=14)\n",
    "        plt.show()\n",
    "\n",
    "    return sensitivity_df.sort_values(by='contribution_x', ascending=False)"
   ]
  },
  {
   "cell_type": "markdown",
   "id": "biblical-heath",
   "metadata": {},
   "source": [
    "## 임계값 설정"
   ]
  },
  {
   "cell_type": "code",
   "execution_count": 10,
   "id": "paperback-rogers",
   "metadata": {},
   "outputs": [],
   "source": [
    "def cut_off(y, threshold) :\n",
    "    Y = y.copy()  # 대문자 Y를 새로운 변수로 하여 기존의 y값에 영향이 가지 않도록 한다.\n",
    "    Y[Y>threshold] = 1\n",
    "    Y[Y<threshold] = 0\n",
    "    return Y.astype(int)"
   ]
  },
  {
   "cell_type": "markdown",
   "id": "bntQ1_fM2wgu",
   "metadata": {
    "id": "bntQ1_fM2wgu"
   },
   "source": [
    "## 표준화"
   ]
  },
  {
   "cell_type": "code",
   "execution_count": 11,
   "id": "ePz_rJ_E2xl8",
   "metadata": {
    "colab": {
     "base_uri": "https://localhost:8080/"
    },
    "executionInfo": {
     "elapsed": 598,
     "status": "ok",
     "timestamp": 1622976435106,
     "user": {
      "displayName": "지연",
      "photoUrl": "",
      "userId": "03997912264803474021"
     },
     "user_tz": -540
    },
    "id": "ePz_rJ_E2xl8",
    "outputId": "15242345-29ce-4ebb-8e03-675d7f27cb53"
   },
   "outputs": [
    {
     "data": {
      "text/plain": [
       "array([[ 1.01312675, -0.47369298,  1.49659752, ...,  0.63506476,\n",
       "        -0.2400338 , -0.04360118],\n",
       "       [-0.98704333, -0.47369298, -0.66818232, ...,  0.30438737,\n",
       "         2.3579269 , -0.04360118],\n",
       "       [ 1.01312675,  2.11107203, -0.66818232, ..., -1.15059314,\n",
       "        -0.54438064, -0.34347299],\n",
       "       ...,\n",
       "       [ 1.01312675, -0.47369298,  1.49659752, ..., -1.81194791,\n",
       "        -0.51534755, -0.04360118],\n",
       "       [-0.98704333,  2.11107203, -0.66818232, ...,  1.23028405,\n",
       "        -0.90078681, -0.04360118],\n",
       "       [ 1.01312675, -0.47369298, -0.66818232, ..., -0.02629002,\n",
       "         2.1326702 , -0.94321661]])"
      ]
     },
     "execution_count": 11,
     "metadata": {},
     "output_type": "execute_result"
    }
   ],
   "source": [
    "scaler = StandardScaler()\n",
    "scaler.fit(x_train)\n",
    "\n",
    "x_trains = scaler.transform(x_train)\n",
    "x_tests = scaler.transform(x_test)\n",
    "\n",
    "x_trains"
   ]
  },
  {
   "cell_type": "markdown",
   "id": "RYjRzWhO0GEk",
   "metadata": {
    "id": "RYjRzWhO0GEk"
   },
   "source": [
    "## 정규화"
   ]
  },
  {
   "cell_type": "code",
   "execution_count": 12,
   "id": "0n6NcVFU0Gg7",
   "metadata": {
    "colab": {
     "base_uri": "https://localhost:8080/"
    },
    "executionInfo": {
     "elapsed": 14,
     "status": "ok",
     "timestamp": 1622976435107,
     "user": {
      "displayName": "지연",
      "photoUrl": "",
      "userId": "03997912264803474021"
     },
     "user_tz": -540
    },
    "id": "0n6NcVFU0Gg7",
    "outputId": "218e3568-1074-489c-d2b0-b8855d709637"
   },
   "outputs": [
    {
     "data": {
      "text/plain": [
       "array([[1.        , 0.        , 1.        , ..., 0.53846154, 0.18638934,\n",
       "        0.20769231],\n",
       "       [0.        , 0.        , 0.        , ..., 0.47435897, 0.71042003,\n",
       "        0.20769231],\n",
       "       [1.        , 1.        , 0.        , ..., 0.19230769, 0.125     ,\n",
       "        0.19615385],\n",
       "       ...,\n",
       "       [1.        , 0.        , 1.        , ..., 0.06410256, 0.13085622,\n",
       "        0.20769231],\n",
       "       [0.        , 1.        , 0.        , ..., 0.65384615, 0.05310985,\n",
       "        0.20769231],\n",
       "       [1.        , 0.        , 0.        , ..., 0.41025641, 0.66498384,\n",
       "        0.17307692]])"
      ]
     },
     "execution_count": 12,
     "metadata": {},
     "output_type": "execute_result"
    }
   ],
   "source": [
    "scaler = MinMaxScaler()\n",
    "scaler.fit(x_train)\n",
    "\n",
    "x_trainn = scaler.transform(x_train)\n",
    "x_testn = scaler.transform(x_test)\n",
    "\n",
    "x_trainn"
   ]
  },
  {
   "cell_type": "markdown",
   "id": "weczdP1ZkTQS",
   "metadata": {
    "id": "weczdP1ZkTQS"
   },
   "source": [
    "## 변수 중요도 추출"
   ]
  },
  {
   "cell_type": "code",
   "execution_count": 13,
   "id": "Hs9pPC3azIas",
   "metadata": {
    "colab": {
     "base_uri": "https://localhost:8080/",
     "height": 1000
    },
    "executionInfo": {
     "elapsed": 14,
     "status": "ok",
     "timestamp": 1622976435111,
     "user": {
      "displayName": "지연",
      "photoUrl": "",
      "userId": "03997912264803474021"
     },
     "user_tz": -540
    },
    "id": "Hs9pPC3azIas",
    "outputId": "854a4715-5946-4f79-9ca1-47e2fb286a90"
   },
   "outputs": [
    {
     "name": "stdout",
     "output_type": "stream",
     "text": [
      "Optimization terminated successfully.\n",
      "         Current function value: 0.371165\n",
      "         Iterations 7\n"
     ]
    },
    {
     "data": {
      "image/png": "[encoded data removed]",
      "text/plain": [
       "<Figure size 720x432 with 1 Axes>"
      ]
     },
     "metadata": {
      "needs_background": "light"
     },
     "output_type": "display_data"
    },
    {
     "data": {
      "text/html": [
       "<div>\n",
       "<style scoped>\n",
       "    .dataframe tbody tr th:only-of-type {\n",
       "        vertical-align: middle;\n",
       "    }\n",
       "\n",
       "    .dataframe tbody tr th {\n",
       "        vertical-align: top;\n",
       "    }\n",
       "\n",
       "    .dataframe thead th {\n",
       "        text-align: right;\n",
       "    }\n",
       "</style>\n",
       "<table border=\"1\" class=\"dataframe\">\n",
       "  <thead>\n",
       "    <tr style=\"text-align: right;\">\n",
       "      <th></th>\n",
       "      <th>idx</th>\n",
       "      <th>task</th>\n",
       "      <th>x</th>\n",
       "      <th>contribution_x</th>\n",
       "    </tr>\n",
       "  </thead>\n",
       "  <tbody>\n",
       "    <tr>\n",
       "      <th>online_boarding</th>\n",
       "      <td>0</td>\n",
       "      <td>LogitReg</td>\n",
       "      <td>5.0</td>\n",
       "      <td>0.912525</td>\n",
       "    </tr>\n",
       "    <tr>\n",
       "      <th>inflight_wifi_service</th>\n",
       "      <td>0</td>\n",
       "      <td>LogitReg</td>\n",
       "      <td>4.0</td>\n",
       "      <td>0.851339</td>\n",
       "    </tr>\n",
       "    <tr>\n",
       "      <th>inflight_entertainment</th>\n",
       "      <td>0</td>\n",
       "      <td>LogitReg</td>\n",
       "      <td>4.0</td>\n",
       "      <td>0.772979</td>\n",
       "    </tr>\n",
       "    <tr>\n",
       "      <th>onboard_service</th>\n",
       "      <td>0</td>\n",
       "      <td>LogitReg</td>\n",
       "      <td>4.0</td>\n",
       "      <td>0.703433</td>\n",
       "    </tr>\n",
       "    <tr>\n",
       "      <th>checkin_service</th>\n",
       "      <td>0</td>\n",
       "      <td>LogitReg</td>\n",
       "      <td>3.0</td>\n",
       "      <td>0.655837</td>\n",
       "    </tr>\n",
       "    <tr>\n",
       "      <th>leg_room_service</th>\n",
       "      <td>0</td>\n",
       "      <td>LogitReg</td>\n",
       "      <td>4.0</td>\n",
       "      <td>0.602080</td>\n",
       "    </tr>\n",
       "    <tr>\n",
       "      <th>cleanliness</th>\n",
       "      <td>0</td>\n",
       "      <td>LogitReg</td>\n",
       "      <td>4.0</td>\n",
       "      <td>0.596793</td>\n",
       "    </tr>\n",
       "    <tr>\n",
       "      <th>all_delay_in_minutes</th>\n",
       "      <td>0</td>\n",
       "      <td>LogitReg</td>\n",
       "      <td>0.0</td>\n",
       "      <td>0.500000</td>\n",
       "    </tr>\n",
       "    <tr>\n",
       "      <th>customer_type</th>\n",
       "      <td>0</td>\n",
       "      <td>LogitReg</td>\n",
       "      <td>0.0</td>\n",
       "      <td>0.500000</td>\n",
       "    </tr>\n",
       "    <tr>\n",
       "      <th>flight_distance</th>\n",
       "      <td>0</td>\n",
       "      <td>LogitReg</td>\n",
       "      <td>304.0</td>\n",
       "      <td>0.480034</td>\n",
       "    </tr>\n",
       "    <tr>\n",
       "      <th>seat_comfort</th>\n",
       "      <td>0</td>\n",
       "      <td>LogitReg</td>\n",
       "      <td>4.0</td>\n",
       "      <td>0.461517</td>\n",
       "    </tr>\n",
       "    <tr>\n",
       "      <th>inflight_service</th>\n",
       "      <td>0</td>\n",
       "      <td>LogitReg</td>\n",
       "      <td>4.0</td>\n",
       "      <td>0.454345</td>\n",
       "    </tr>\n",
       "    <tr>\n",
       "      <th>Gender</th>\n",
       "      <td>0</td>\n",
       "      <td>LogitReg</td>\n",
       "      <td>1.0</td>\n",
       "      <td>0.452484</td>\n",
       "    </tr>\n",
       "    <tr>\n",
       "      <th>baggage_handling</th>\n",
       "      <td>0</td>\n",
       "      <td>LogitReg</td>\n",
       "      <td>5.0</td>\n",
       "      <td>0.445032</td>\n",
       "    </tr>\n",
       "    <tr>\n",
       "      <th>departure_arrival_time_convenient</th>\n",
       "      <td>0</td>\n",
       "      <td>LogitReg</td>\n",
       "      <td>4.0</td>\n",
       "      <td>0.366333</td>\n",
       "    </tr>\n",
       "    <tr>\n",
       "      <th>gate_location</th>\n",
       "      <td>0</td>\n",
       "      <td>LogitReg</td>\n",
       "      <td>4.0</td>\n",
       "      <td>0.341328</td>\n",
       "    </tr>\n",
       "    <tr>\n",
       "      <th>food_and_drink</th>\n",
       "      <td>0</td>\n",
       "      <td>LogitReg</td>\n",
       "      <td>4.0</td>\n",
       "      <td>0.307556</td>\n",
       "    </tr>\n",
       "    <tr>\n",
       "      <th>ease_of_online_booking</th>\n",
       "      <td>0</td>\n",
       "      <td>LogitReg</td>\n",
       "      <td>5.0</td>\n",
       "      <td>0.272423</td>\n",
       "    </tr>\n",
       "    <tr>\n",
       "      <th>customer_class</th>\n",
       "      <td>0</td>\n",
       "      <td>LogitReg</td>\n",
       "      <td>1.0</td>\n",
       "      <td>0.259409</td>\n",
       "    </tr>\n",
       "    <tr>\n",
       "      <th>age</th>\n",
       "      <td>0</td>\n",
       "      <td>LogitReg</td>\n",
       "      <td>53.0</td>\n",
       "      <td>0.140582</td>\n",
       "    </tr>\n",
       "    <tr>\n",
       "      <th>type_of_travel</th>\n",
       "      <td>0</td>\n",
       "      <td>LogitReg</td>\n",
       "      <td>1.0</td>\n",
       "      <td>0.053859</td>\n",
       "    </tr>\n",
       "  </tbody>\n",
       "</table>\n",
       "</div>"
      ],
      "text/plain": [
       "                                   idx      task      x  contribution_x\n",
       "online_boarding                      0  LogitReg    5.0        0.912525\n",
       "inflight_wifi_service                0  LogitReg    4.0        0.851339\n",
       "inflight_entertainment               0  LogitReg    4.0        0.772979\n",
       "onboard_service                      0  LogitReg    4.0        0.703433\n",
       "checkin_service                      0  LogitReg    3.0        0.655837\n",
       "leg_room_service                     0  LogitReg    4.0        0.602080\n",
       "cleanliness                          0  LogitReg    4.0        0.596793\n",
       "all_delay_in_minutes                 0  LogitReg    0.0        0.500000\n",
       "customer_type                        0  LogitReg    0.0        0.500000\n",
       "flight_distance                      0  LogitReg  304.0        0.480034\n",
       "seat_comfort                         0  LogitReg    4.0        0.461517\n",
       "inflight_service                     0  LogitReg    4.0        0.454345\n",
       "Gender                               0  LogitReg    1.0        0.452484\n",
       "baggage_handling                     0  LogitReg    5.0        0.445032\n",
       "departure_arrival_time_convenient    0  LogitReg    4.0        0.366333\n",
       "gate_location                        0  LogitReg    4.0        0.341328\n",
       "food_and_drink                       0  LogitReg    4.0        0.307556\n",
       "ease_of_online_booking               0  LogitReg    5.0        0.272423\n",
       "customer_class                       0  LogitReg    1.0        0.259409\n",
       "age                                  0  LogitReg   53.0        0.140582\n",
       "type_of_travel                       0  LogitReg    1.0        0.053859"
      ]
     },
     "execution_count": 13,
     "metadata": {},
     "output_type": "execute_result"
    }
   ],
   "source": [
    "logitreg = sm.Logit(y_train, x_train)\n",
    "logitreg_fit = logitreg.fit()\n",
    "\n",
    "sensitivity_analysis_LinearReg_LogitReg(task=\"LogitReg\"\n",
    "                                        , model=logitreg_fit\n",
    "                                        , X=x_test\n",
    "                                        , idx=0\n",
    "                                        , bar_plot_yn=True)"
   ]
  },
  {
   "cell_type": "markdown",
   "id": "DsmRjRSE3Yk0",
   "metadata": {
    "id": "DsmRjRSE3Yk0"
   },
   "source": [
    "## 로지스틱 모델"
   ]
  },
  {
   "cell_type": "code",
   "execution_count": 14,
   "id": "n0qpdXG93YPN",
   "metadata": {
    "executionInfo": {
     "elapsed": 12,
     "status": "ok",
     "timestamp": 1622976435112,
     "user": {
      "displayName": "지연",
      "photoUrl": "",
      "userId": "03997912264803474021"
     },
     "user_tz": -540
    },
    "id": "n0qpdXG93YPN"
   },
   "outputs": [],
   "source": [
    "def logisticModel(x_train, x_test, y_train, y_test) :\n",
    "    model = LogisticRegression(random_state=0, multi_class='multinomial')\n",
    "\n",
    "    model.fit(X=x_train, y=y_train)\n",
    "\n",
    "    y_pred = model.predict(X=x_test)\n",
    "    con_matrix(model, y_test, y_pred)\n",
    "\n",
    "    print(\"Train_Accuracy : \", model.score(x_train, y_train))\n",
    "    print(\"Test_Accuracy : \", model.score(x_test, y_test), '\\n')"
   ]
  },
  {
   "cell_type": "code",
   "execution_count": 15,
   "id": "r9zkjtLPBFUF",
   "metadata": {
    "colab": {
     "base_uri": "https://localhost:8080/"
    },
    "executionInfo": {
     "elapsed": 444,
     "status": "ok",
     "timestamp": 1622976435545,
     "user": {
      "displayName": "지연",
      "photoUrl": "",
      "userId": "03997912264803474021"
     },
     "user_tz": -540
    },
    "id": "r9zkjtLPBFUF",
    "outputId": "faf31a95-a166-4d29-c0db-e2ac67ea087f"
   },
   "outputs": [
    {
     "data": {
      "text/plain": [
       "(90640, 90640)"
      ]
     },
     "execution_count": 15,
     "metadata": {},
     "output_type": "execute_result"
    }
   ],
   "source": [
    "len(x_trainn), len(y_train)"
   ]
  },
  {
   "cell_type": "markdown",
   "id": "5cbZRPW5kVvK",
   "metadata": {
    "id": "5cbZRPW5kVvK"
   },
   "source": [
    "## 표준화 x, 정규화 x"
   ]
  },
  {
   "cell_type": "code",
   "execution_count": 16,
   "id": "0MdnB6mikZkF",
   "metadata": {
    "colab": {
     "base_uri": "https://localhost:8080/",
     "height": 485
    },
    "executionInfo": {
     "elapsed": 4333,
     "status": "ok",
     "timestamp": 1622976439861,
     "user": {
      "displayName": "지연",
      "photoUrl": "",
      "userId": "03997912264803474021"
     },
     "user_tz": -540
    },
    "id": "0MdnB6mikZkF",
    "outputId": "548b6e9b-aa23-4e9b-9529-fceb79aba4b9"
   },
   "outputs": [
    {
     "data": {
      "image/png": "[encoded data removed]",
      "text/plain": [
       "<Figure size 432x432 with 2 Axes>"
      ]
     },
     "metadata": {
      "needs_background": "light"
     },
     "output_type": "display_data"
    },
    {
     "name": "stdout",
     "output_type": "stream",
     "text": [
      "Precision:0.7934\n",
      "Recall: 0.8218\n",
      "F1: 0.8074\n",
      "AUC: 0.8291\n",
      "Train_Accuracy :  0.831409973521624\n",
      "Test_Accuracy :  0.8300512266069452 \n",
      "\n"
     ]
    }
   ],
   "source": [
    "logisticModel(x_train, x_test, y_train, y_test)"
   ]
  },
  {
   "cell_type": "markdown",
   "id": "a4BJIyEVsXlg",
   "metadata": {
    "id": "a4BJIyEVsXlg"
   },
   "source": [
    "## 표준화 x, 정규화 o"
   ]
  },
  {
   "cell_type": "code",
   "execution_count": 17,
   "id": "xrtjyR2tsXL5",
   "metadata": {
    "colab": {
     "base_uri": "https://localhost:8080/",
     "height": 485
    },
    "executionInfo": {
     "elapsed": 2065,
     "status": "ok",
     "timestamp": 1622976441914,
     "user": {
      "displayName": "지연",
      "photoUrl": "",
      "userId": "03997912264803474021"
     },
     "user_tz": -540
    },
    "id": "xrtjyR2tsXL5",
    "outputId": "0de97d07-1b56-4f2a-dca8-5ff67d423b1a"
   },
   "outputs": [
    {
     "data": {
      "image/png": "[encoded data removed]",
      "text/plain": [
       "<Figure size 432x432 with 2 Axes>"
      ]
     },
     "metadata": {
      "needs_background": "light"
     },
     "output_type": "display_data"
    },
    {
     "name": "stdout",
     "output_type": "stream",
     "text": [
      "Precision:0.8683\n",
      "Recall: 0.8337\n",
      "F1: 0.8507\n",
      "AUC: 0.8685\n",
      "Train_Accuracy :  0.874040158870256\n",
      "Test_Accuracy :  0.8731690992869462 \n",
      "\n"
     ]
    }
   ],
   "source": [
    "logisticModel(x_trainn, x_testn, y_train, y_test)"
   ]
  },
  {
   "cell_type": "markdown",
   "id": "AHXFh0Casbr8",
   "metadata": {
    "id": "AHXFh0Casbr8"
   },
   "source": [
    "## 표준화 o, 정규화 x"
   ]
  },
  {
   "cell_type": "code",
   "execution_count": 18,
   "id": "dWFGgyUwsXG-",
   "metadata": {
    "colab": {
     "base_uri": "https://localhost:8080/",
     "height": 485
    },
    "executionInfo": {
     "elapsed": 1133,
     "status": "ok",
     "timestamp": 1622976443042,
     "user": {
      "displayName": "지연",
      "photoUrl": "",
      "userId": "03997912264803474021"
     },
     "user_tz": -540
    },
    "id": "dWFGgyUwsXG-",
    "outputId": "8f1f9dce-ad07-4df3-b986-f46f70a0fc8b"
   },
   "outputs": [
    {
     "data": {
      "image/png": "[encoded data removed]",
      "text/plain": [
       "<Figure size 432x432 with 2 Axes>"
      ]
     },
     "metadata": {
      "needs_background": "light"
     },
     "output_type": "display_data"
    },
    {
     "name": "stdout",
     "output_type": "stream",
     "text": [
      "Precision:0.8683\n",
      "Recall: 0.8336\n",
      "F1: 0.8506\n",
      "AUC: 0.8684\n",
      "Train_Accuracy :  0.8740953221535745\n",
      "Test_Accuracy :  0.8730918732463253 \n",
      "\n"
     ]
    }
   ],
   "source": [
    "logisticModel(x_trains, x_tests, y_train, y_test)"
   ]
  },
  {
   "cell_type": "markdown",
   "id": "HnsuhDIBsdsM",
   "metadata": {
    "id": "HnsuhDIBsdsM"
   },
   "source": [
    "## 표준화 o, 정규화 o"
   ]
  },
  {
   "cell_type": "code",
   "execution_count": 19,
   "id": "esLqEQ-CsW6X",
   "metadata": {
    "colab": {
     "base_uri": "https://localhost:8080/"
    },
    "executionInfo": {
     "elapsed": 10,
     "status": "ok",
     "timestamp": 1622976443043,
     "user": {
      "displayName": "지연",
      "photoUrl": "",
      "userId": "03997912264803474021"
     },
     "user_tz": -540
    },
    "id": "esLqEQ-CsW6X",
    "outputId": "3a22e43f-eb4b-40ac-eca4-f8d144aa74a0"
   },
   "outputs": [
    {
     "data": {
      "text/plain": [
       "array([[1.        , 0.        , 1.        , ..., 0.53846154, 0.18638934,\n",
       "        0.20769231],\n",
       "       [0.        , 0.        , 0.        , ..., 0.47435897, 0.71042003,\n",
       "        0.20769231],\n",
       "       [1.        , 1.        , 0.        , ..., 0.19230769, 0.125     ,\n",
       "        0.19615385],\n",
       "       ...,\n",
       "       [1.        , 0.        , 1.        , ..., 0.06410256, 0.13085622,\n",
       "        0.20769231],\n",
       "       [0.        , 1.        , 0.        , ..., 0.65384615, 0.05310985,\n",
       "        0.20769231],\n",
       "       [1.        , 0.        , 0.        , ..., 0.41025641, 0.66498384,\n",
       "        0.17307692]])"
      ]
     },
     "execution_count": 19,
     "metadata": {},
     "output_type": "execute_result"
    }
   ],
   "source": [
    "scaler = MinMaxScaler()\n",
    "scaler.fit(x_trains)\n",
    "x_trainsn = scaler.transform(x_trains)\n",
    "x_testsn = scaler.transform(x_tests)\n",
    "x_trainsn"
   ]
  },
  {
   "cell_type": "code",
   "execution_count": 20,
   "id": "c8XaQS8DsXDY",
   "metadata": {
    "colab": {
     "base_uri": "https://localhost:8080/",
     "height": 485
    },
    "executionInfo": {
     "elapsed": 2285,
     "status": "ok",
     "timestamp": 1622976445324,
     "user": {
      "displayName": "지연",
      "photoUrl": "",
      "userId": "03997912264803474021"
     },
     "user_tz": -540
    },
    "id": "c8XaQS8DsXDY",
    "outputId": "ba9e2b32-bb2c-499b-deb5-01be576caf89"
   },
   "outputs": [
    {
     "data": {
      "image/png": "[encoded data removed]",
      "text/plain": [
       "<Figure size 432x432 with 2 Axes>"
      ]
     },
     "metadata": {
      "needs_background": "light"
     },
     "output_type": "display_data"
    },
    {
     "name": "stdout",
     "output_type": "stream",
     "text": [
      "Precision:0.8683\n",
      "Recall: 0.8337\n",
      "F1: 0.8507\n",
      "AUC: 0.8685\n",
      "Train_Accuracy :  0.874040158870256\n",
      "Test_Accuracy :  0.8731690992869462 \n",
      "\n"
     ]
    }
   ],
   "source": [
    "logisticModel(x_trainsn, x_testsn, y_train, y_test)"
   ]
  },
  {
   "cell_type": "markdown",
   "id": "EzmRepROIwQZ",
   "metadata": {
    "id": "EzmRepROIwQZ"
   },
   "source": [
    "표준화와 정규화를 모두 거친 데이터셋의 정확도와 정규화만 거친 데이터셋의 정확도가 동일하므로, x_trainn, x_testn을 x_train, x_test에 저장"
   ]
  },
  {
   "cell_type": "code",
   "execution_count": 21,
   "id": "-rgIs3ASI8J1",
   "metadata": {
    "executionInfo": {
     "elapsed": 13,
     "status": "ok",
     "timestamp": 1622976445327,
     "user": {
      "displayName": "지연",
      "photoUrl": "",
      "userId": "03997912264803474021"
     },
     "user_tz": -540
    },
    "id": "-rgIs3ASI8J1"
   },
   "outputs": [],
   "source": [
    "x_train = x_trainn\n",
    "x_test = x_testn"
   ]
  },
  {
   "cell_type": "markdown",
   "id": "conceptual-grounds",
   "metadata": {
    "id": "conceptual-grounds"
   },
   "source": [
    "## 변수 선택"
   ]
  },
  {
   "cell_type": "code",
   "execution_count": 22,
   "id": "lightweight-implement",
   "metadata": {
    "colab": {
     "base_uri": "https://localhost:8080/",
     "height": 700
    },
    "executionInfo": {
     "elapsed": 12267,
     "status": "ok",
     "timestamp": 1622976457583,
     "user": {
      "displayName": "지연",
      "photoUrl": "",
      "userId": "03997912264803474021"
     },
     "user_tz": -540
    },
    "id": "lightweight-implement",
    "outputId": "d4925b16-5e27-47d2-8d1c-068cb08ff648"
   },
   "outputs": [
    {
     "data": {
      "text/html": [
       "<div>\n",
       "<style scoped>\n",
       "    .dataframe tbody tr th:only-of-type {\n",
       "        vertical-align: middle;\n",
       "    }\n",
       "\n",
       "    .dataframe tbody tr th {\n",
       "        vertical-align: top;\n",
       "    }\n",
       "\n",
       "    .dataframe thead th {\n",
       "        text-align: right;\n",
       "    }\n",
       "</style>\n",
       "<table border=\"1\" class=\"dataframe\">\n",
       "  <thead>\n",
       "    <tr style=\"text-align: right;\">\n",
       "      <th></th>\n",
       "      <th>train</th>\n",
       "      <th>test</th>\n",
       "    </tr>\n",
       "  </thead>\n",
       "  <tbody>\n",
       "    <tr>\n",
       "      <th>0</th>\n",
       "      <td>0.786419</td>\n",
       "      <td>0.787809</td>\n",
       "    </tr>\n",
       "    <tr>\n",
       "      <th>1</th>\n",
       "      <td>0.843049</td>\n",
       "      <td>0.843463</td>\n",
       "    </tr>\n",
       "    <tr>\n",
       "      <th>2</th>\n",
       "      <td>0.811342</td>\n",
       "      <td>0.812238</td>\n",
       "    </tr>\n",
       "    <tr>\n",
       "      <th>3</th>\n",
       "      <td>0.830958</td>\n",
       "      <td>0.831390</td>\n",
       "    </tr>\n",
       "    <tr>\n",
       "      <th>4</th>\n",
       "      <td>0.830958</td>\n",
       "      <td>0.831338</td>\n",
       "    </tr>\n",
       "    <tr>\n",
       "      <th>5</th>\n",
       "      <td>0.846547</td>\n",
       "      <td>0.847710</td>\n",
       "    </tr>\n",
       "    <tr>\n",
       "      <th>6</th>\n",
       "      <td>0.847065</td>\n",
       "      <td>0.848019</td>\n",
       "    </tr>\n",
       "    <tr>\n",
       "      <th>7</th>\n",
       "      <td>0.850375</td>\n",
       "      <td>0.851031</td>\n",
       "    </tr>\n",
       "    <tr>\n",
       "      <th>8</th>\n",
       "      <td>0.850706</td>\n",
       "      <td>0.850516</td>\n",
       "    </tr>\n",
       "    <tr>\n",
       "      <th>9</th>\n",
       "      <td>0.853244</td>\n",
       "      <td>0.853425</td>\n",
       "    </tr>\n",
       "    <tr>\n",
       "      <th>10</th>\n",
       "      <td>0.853541</td>\n",
       "      <td>0.854043</td>\n",
       "    </tr>\n",
       "    <tr>\n",
       "      <th>11</th>\n",
       "      <td>0.853619</td>\n",
       "      <td>0.854043</td>\n",
       "    </tr>\n",
       "    <tr>\n",
       "      <th>12</th>\n",
       "      <td>0.856741</td>\n",
       "      <td>0.857029</td>\n",
       "    </tr>\n",
       "    <tr>\n",
       "      <th>13</th>\n",
       "      <td>0.856929</td>\n",
       "      <td>0.856797</td>\n",
       "    </tr>\n",
       "    <tr>\n",
       "      <th>14</th>\n",
       "      <td>0.871470</td>\n",
       "      <td>0.870157</td>\n",
       "    </tr>\n",
       "    <tr>\n",
       "      <th>15</th>\n",
       "      <td>0.872661</td>\n",
       "      <td>0.872139</td>\n",
       "    </tr>\n",
       "    <tr>\n",
       "      <th>16</th>\n",
       "      <td>0.873257</td>\n",
       "      <td>0.872371</td>\n",
       "    </tr>\n",
       "    <tr>\n",
       "      <th>17</th>\n",
       "      <td>0.874106</td>\n",
       "      <td>0.873478</td>\n",
       "    </tr>\n",
       "    <tr>\n",
       "      <th>18</th>\n",
       "      <td>0.874272</td>\n",
       "      <td>0.873427</td>\n",
       "    </tr>\n",
       "    <tr>\n",
       "      <th>19</th>\n",
       "      <td>0.874162</td>\n",
       "      <td>0.873555</td>\n",
       "    </tr>\n",
       "    <tr>\n",
       "      <th>20</th>\n",
       "      <td>0.874040</td>\n",
       "      <td>0.873221</td>\n",
       "    </tr>\n",
       "  </tbody>\n",
       "</table>\n",
       "</div>"
      ],
      "text/plain": [
       "       train      test\n",
       "0   0.786419  0.787809\n",
       "1   0.843049  0.843463\n",
       "2   0.811342  0.812238\n",
       "3   0.830958  0.831390\n",
       "4   0.830958  0.831338\n",
       "5   0.846547  0.847710\n",
       "6   0.847065  0.848019\n",
       "7   0.850375  0.851031\n",
       "8   0.850706  0.850516\n",
       "9   0.853244  0.853425\n",
       "10  0.853541  0.854043\n",
       "11  0.853619  0.854043\n",
       "12  0.856741  0.857029\n",
       "13  0.856929  0.856797\n",
       "14  0.871470  0.870157\n",
       "15  0.872661  0.872139\n",
       "16  0.873257  0.872371\n",
       "17  0.874106  0.873478\n",
       "18  0.874272  0.873427\n",
       "19  0.874162  0.873555\n",
       "20  0.874040  0.873221"
      ]
     },
     "execution_count": 22,
     "metadata": {},
     "output_type": "execute_result"
    }
   ],
   "source": [
    "from sklearn.feature_selection import SelectKBest, mutual_info_regression, SelectFromModel, f_regression\n",
    "\n",
    "# target(satisfaction)와 가장 correlated 된 features 를 k개 고르기..\n",
    "predict = pd.DataFrame(columns = ['train', 'test'])\n",
    "train_list = []\n",
    "test_list = []\n",
    "\n",
    "for i in range(1, 22) :\n",
    "    selector = SelectKBest(score_func=f_regression, k=i) ## selctor 정의하기\n",
    "\n",
    "    x_train_selected = selector.fit_transform(x_train, y_train) ## 학습데이터에 fit_transform \n",
    "    x_test_selected = selector.transform(x_test) ## 테스트 데이터는 transform\n",
    "\n",
    "    model = LogisticRegression()\n",
    "    model.fit(x_train_selected, y_train)\n",
    "    \n",
    "    train_list.append(model.score(x_train_selected, y_train))\n",
    "    test_list.append(model.score(x_test_selected, y_test))\n",
    "    \n",
    "predict['train'] = train_list\n",
    "predict['test'] = test_list\n",
    "predict"
   ]
  },
  {
   "cell_type": "code",
   "execution_count": 23,
   "id": "advance-landing",
   "metadata": {
    "colab": {
     "base_uri": "https://localhost:8080/"
    },
    "executionInfo": {
     "elapsed": 26,
     "status": "ok",
     "timestamp": 1622976457584,
     "user": {
      "displayName": "지연",
      "photoUrl": "",
      "userId": "03997912264803474021"
     },
     "user_tz": -540
    },
    "id": "advance-landing",
    "outputId": "92cc0eb6-c3d1-45eb-9f34-b1dd04efabfa"
   },
   "outputs": [
    {
     "name": "stdout",
     "output_type": "stream",
     "text": [
      "18 0.8742718446601941 0.8735552294900507\n"
     ]
    }
   ],
   "source": [
    "# 예측 정확도 가장 높은 변수 개수 탐색\n",
    "if train_list.index(max(train_list)) == test_list.index(max(test_list)) :\n",
    "    optIndex = train_list.index(max(train_list))\n",
    "    print(optIndex, max(train_list), max(test_list))\n",
    "else :\n",
    "    optIndex = int((train_list.index(max(train_list)) + test_list.index(max(test_list))) / 2)\n",
    "    print(optIndex, max(train_list), max(test_list))"
   ]
  },
  {
   "cell_type": "code",
   "execution_count": 24,
   "id": "transsexual-wyoming",
   "metadata": {
    "colab": {
     "base_uri": "https://localhost:8080/"
    },
    "executionInfo": {
     "elapsed": 15,
     "status": "ok",
     "timestamp": 1622976457585,
     "user": {
      "displayName": "지연",
      "photoUrl": "",
      "userId": "03997912264803474021"
     },
     "user_tz": -540
    },
    "id": "transsexual-wyoming",
    "outputId": "7a8e4a13-ec8a-4b9b-b6b2-1ab8b17fd2c6"
   },
   "outputs": [
    {
     "data": {
      "text/plain": [
       "((90640, 18), (38847, 18))"
      ]
     },
     "execution_count": 24,
     "metadata": {},
     "output_type": "execute_result"
    }
   ],
   "source": [
    "# target(satisfaction)와 가장 correlated 된 features 18개 선택\n",
    "\n",
    "selector = SelectKBest(score_func=f_regression, k=optIndex) ## selctor 정의하기\n",
    "\n",
    "x_train_selected = selector.fit_transform(x_train, y_train) ## 학습데이터에 fit_transform \n",
    "x_test_selected = selector.transform(x_test) ## 테스트 데이터는 transform\n",
    "\n",
    "x_train_selected.shape, x_test_selected.shape"
   ]
  },
  {
   "cell_type": "markdown",
   "id": "lyRW020LlZ8I",
   "metadata": {
    "id": "lyRW020LlZ8I"
   },
   "source": [
    "선택된 변수를 각각 x_train, x_test 변수에 저장"
   ]
  },
  {
   "cell_type": "code",
   "execution_count": 25,
   "id": "WNte3sw0M32H",
   "metadata": {
    "executionInfo": {
     "elapsed": 10,
     "status": "ok",
     "timestamp": 1622976457586,
     "user": {
      "displayName": "지연",
      "photoUrl": "",
      "userId": "03997912264803474021"
     },
     "user_tz": -540
    },
    "id": "WNte3sw0M32H"
   },
   "outputs": [],
   "source": [
    "x_train = x_train_selected\n",
    "x_test = x_test_selected"
   ]
  },
  {
   "cell_type": "markdown",
   "id": "PSWVcsjK6l2t",
   "metadata": {
    "id": "PSWVcsjK6l2t"
   },
   "source": [
    "# 학습결과 평가"
   ]
  },
  {
   "cell_type": "code",
   "execution_count": 26,
   "id": "37FMiTcWlCA6",
   "metadata": {
    "colab": {
     "base_uri": "https://localhost:8080/",
     "height": 431
    },
    "executionInfo": {
     "elapsed": 1772,
     "status": "ok",
     "timestamp": 1622976459350,
     "user": {
      "displayName": "지연",
      "photoUrl": "",
      "userId": "03997912264803474021"
     },
     "user_tz": -540
    },
    "id": "37FMiTcWlCA6",
    "outputId": "7ed07113-a1a2-4174-d4b6-348345e79926"
   },
   "outputs": [
    {
     "data": {
      "image/png": "[encoded data removed]",
      "text/plain": [
       "<Figure size 432x432 with 2 Axes>"
      ]
     },
     "metadata": {
      "needs_background": "light"
     },
     "output_type": "display_data"
    },
    {
     "name": "stdout",
     "output_type": "stream",
     "text": [
      "Precision:0.8685\n",
      "Recall: 0.8343\n",
      "F1: 0.8511\n",
      "AUC: 0.8688\n"
     ]
    }
   ],
   "source": [
    "log_reg = LogisticRegression(random_state=0, multi_class='multinomial')\n",
    "\n",
    "log_reg.fit(X=x_train, y=y_train)\n",
    "\n",
    "y_pred = log_reg.predict(X=x_test)\n",
    "con_matrix(log_reg, y_test, y_pred)"
   ]
  },
  {
   "cell_type": "code",
   "execution_count": 27,
   "id": "kdaQq_ygvW1b",
   "metadata": {
    "colab": {
     "base_uri": "https://localhost:8080/",
     "height": 283
    },
    "executionInfo": {
     "elapsed": 23,
     "status": "ok",
     "timestamp": 1622976459353,
     "user": {
      "displayName": "지연",
      "photoUrl": "",
      "userId": "03997912264803474021"
     },
     "user_tz": -540
    },
    "id": "kdaQq_ygvW1b",
    "outputId": "ab30c090-4bd7-41f3-d8e2-45e0283f24e2"
   },
   "outputs": [
    {
     "name": "stdout",
     "output_type": "stream",
     "text": [
      "AUC: 0.8688493356888094\n"
     ]
    },
    {
     "data": {
      "image/png": "[encoded data removed]",
      "text/plain": [
       "<Figure size 432x288 with 1 Axes>"
      ]
     },
     "metadata": {
      "needs_background": "light"
     },
     "output_type": "display_data"
    }
   ],
   "source": [
    "# sklearn에서 ROC 패키지 활용\n",
    "fpr, tpr, thresholds = metrics.roc_curve(y_test, y_pred, pos_label = 1)\n",
    "\n",
    "# ROC curve\n",
    "plt.plot(fpr,tpr)\n",
    "\n",
    "# AUC\n",
    "auc = np.trapz(tpr,fpr)\n",
    "print(\"AUC:\",auc)"
   ]
  },
  {
   "cell_type": "markdown",
   "id": "-EyNZO9p6oWd",
   "metadata": {
    "id": "-EyNZO9p6oWd"
   },
   "source": [
    "## Logit 함수 적용"
   ]
  },
  {
   "cell_type": "code",
   "execution_count": 28,
   "id": "u1B6cjhYKmzh",
   "metadata": {
    "colab": {
     "base_uri": "https://localhost:8080/"
    },
    "executionInfo": {
     "elapsed": 623,
     "status": "ok",
     "timestamp": 1622976459963,
     "user": {
      "displayName": "지연",
      "photoUrl": "",
      "userId": "03997912264803474021"
     },
     "user_tz": -540
    },
    "id": "u1B6cjhYKmzh",
    "outputId": "2bd627bf-ce54-4900-f23d-e85a3b4770fc"
   },
   "outputs": [
    {
     "name": "stdout",
     "output_type": "stream",
     "text": [
      "Optimization terminated successfully.\n",
      "         Current function value: 0.377315\n",
      "         Iterations 7\n"
     ]
    },
    {
     "data": {
      "text/plain": [
       "array([0, 1, 1, ..., 1, 0, 0])"
      ]
     },
     "execution_count": 28,
     "metadata": {},
     "output_type": "execute_result"
    }
   ],
   "source": [
    "model = sm.Logit(y_train, x_train)\n",
    "result = model.fit(method = \"newton\")    # 뉴턴 방법 적용한 로지스틱 회귀 모형\n",
    "\n",
    "y_pred = result.predict(x_test)\n",
    "\n",
    "pred_Y = cut_off(y_pred, 0.5)\n",
    "pred_Y"
   ]
  },
  {
   "cell_type": "code",
   "execution_count": 29,
   "id": "v4GbvJF7toOf",
   "metadata": {
    "colab": {
     "base_uri": "https://localhost:8080/",
     "height": 283
    },
    "executionInfo": {
     "elapsed": 28,
     "status": "ok",
     "timestamp": 1622976459966,
     "user": {
      "displayName": "지연",
      "photoUrl": "",
      "userId": "03997912264803474021"
     },
     "user_tz": -540
    },
    "id": "v4GbvJF7toOf",
    "outputId": "13d28370-e718-452e-fb09-356baa3fee70"
   },
   "outputs": [
    {
     "name": "stdout",
     "output_type": "stream",
     "text": [
      "AUC: 0.9070967013287173\n"
     ]
    },
    {
     "data": {
      "image/png": "[encoded data removed]",
      "text/plain": [
       "<Figure size 432x288 with 1 Axes>"
      ]
     },
     "metadata": {
      "needs_background": "light"
     },
     "output_type": "display_data"
    }
   ],
   "source": [
    "fpr, tpr, thresholds = metrics.roc_curve(y_test, y_pred, pos_label = 1)\n",
    "\n",
    "plt.plot(fpr,tpr)\n",
    "\n",
    "auc = np.trapz(tpr,fpr)\n",
    "print(\"AUC:\",auc)"
   ]
  },
  {
   "cell_type": "markdown",
   "id": "tdoVs5QmZAyJ",
   "metadata": {
    "id": "tdoVs5QmZAyJ"
   },
   "source": [
    "# 하이퍼파라미터 튜닝"
   ]
  },
  {
   "cell_type": "code",
   "execution_count": 30,
   "id": "uhFpccs9LDne",
   "metadata": {
    "executionInfo": {
     "elapsed": 25874,
     "status": "ok",
     "timestamp": 1622976485825,
     "user": {
      "displayName": "지연",
      "photoUrl": "",
      "userId": "03997912264803474021"
     },
     "user_tz": -540
    },
    "id": "uhFpccs9LDne"
   },
   "outputs": [],
   "source": [
    "from sklearn.model_selection import GridSearchCV\n",
    "clf = LogisticRegression()\n",
    "\n",
    "parameters = {'penalty': ['l1', 'l2'], 'C':[0.001,.009, 0.01, .09, 1, 5, 10, 25]}\n",
    "\n",
    "grid_clf_acc = GridSearchCV(clf, param_grid = parameters, scoring = 'recall')\n",
    "grid_clf_acc.fit(x_train, y_train)\n",
    "\n",
    "y_pred_acc = grid_clf_acc.predict(x_test)"
   ]
  },
  {
   "cell_type": "code",
   "execution_count": 31,
   "id": "L9NoAxAaNNpz",
   "metadata": {
    "colab": {
     "base_uri": "https://localhost:8080/"
    },
    "executionInfo": {
     "elapsed": 23,
     "status": "ok",
     "timestamp": 1622976485833,
     "user": {
      "displayName": "지연",
      "photoUrl": "",
      "userId": "03997912264803474021"
     },
     "user_tz": -540
    },
    "id": "L9NoAxAaNNpz",
    "outputId": "bbaeffc8-3fef-42e7-cb29-c140841f7505"
   },
   "outputs": [
    {
     "name": "stdout",
     "output_type": "stream",
     "text": [
      "최적 하이퍼 파라미터: \n",
      " {'C': 5, 'penalty': 'l2'}\n",
      "최고 예측 정확도: 0.8367\n"
     ]
    }
   ],
   "source": [
    "print('최적 하이퍼 파라미터: \\n', grid_clf_acc.best_params_)\n",
    "print('최고 예측 정확도: {0:.4f}'.format(grid_clf_acc.best_score_))"
   ]
  },
  {
   "cell_type": "code",
   "execution_count": 32,
   "id": "vQbFFXgOMCOG",
   "metadata": {
    "colab": {
     "base_uri": "https://localhost:8080/"
    },
    "executionInfo": {
     "elapsed": 6647,
     "status": "ok",
     "timestamp": 1622976492469,
     "user": {
      "displayName": "지연",
      "photoUrl": "",
      "userId": "03997912264803474021"
     },
     "user_tz": -540
    },
    "id": "vQbFFXgOMCOG",
    "outputId": "e5632c7c-2b30-4d80-8c29-45bfd653777f"
   },
   "outputs": [
    {
     "name": "stdout",
     "output_type": "stream",
     "text": [
      "교차검증 평균:  0.8739408649602824\n"
     ]
    }
   ],
   "source": [
    "from sklearn.model_selection import cross_val_score, cross_validate\n",
    "model = LogisticRegression()\n",
    "\n",
    "# 교차검증\n",
    "scores = cross_val_score(model, x_train, y_train, cv = 5)\n",
    "scores\n",
    "\n",
    "pd.DataFrame(cross_validate(model, x_train, y_train, cv = 5))\n",
    "print('교차검증 평균: ', scores.mean())"
   ]
  }
 ],
 "metadata": {
  "colab": {
   "collapsed_sections": [],
   "name": "Logistic_Regression.ipynb",
   "provenance": []
  },
  "kernelspec": {
   "display_name": "Python 3",
   "language": "python",
   "name": "python3"
  },
  "language_info": {
   "codemirror_mode": {
    "name": "ipython",
    "version": 3
   },
   "file_extension": ".py",
   "mimetype": "text/x-python",
   "name": "python",
   "nbconvert_exporter": "python",
   "pygments_lexer": "ipython3",
   "version": "3.9.2"
  }
 },
 "nbformat": 4,
 "nbformat_minor": 5
}
