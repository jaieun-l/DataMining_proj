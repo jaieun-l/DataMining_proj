{
 "cells": [
  {
   "cell_type": "code",
   "execution_count": 14,
   "id": "0b125e2c",
   "metadata": {
    "id": "0b125e2c",
    "outputId": "83dbfa64-7796-43d9-ff5f-93ca47720720",
    "scrolled": true
   },
   "outputs": [
    {
     "ename": "ModuleNotFoundError",
     "evalue": "No module named 'wordcloud'",
     "output_type": "error",
     "traceback": [
      "\u001b[1;31m---------------------------------------------------------------------------\u001b[0m",
      "\u001b[1;31mModuleNotFoundError\u001b[0m                       Traceback (most recent call last)",
      "\u001b[1;32m<ipython-input-14-d0cfd58a69ec>\u001b[0m in \u001b[0;36m<module>\u001b[1;34m\u001b[0m\n\u001b[0;32m      6\u001b[0m \u001b[1;32mfrom\u001b[0m \u001b[0mautocorrect\u001b[0m \u001b[1;32mimport\u001b[0m \u001b[0mspell\u001b[0m\u001b[1;33m\u001b[0m\u001b[1;33m\u001b[0m\u001b[0m\n\u001b[0;32m      7\u001b[0m \u001b[1;33m\u001b[0m\u001b[0m\n\u001b[1;32m----> 8\u001b[1;33m \u001b[1;32mfrom\u001b[0m \u001b[0mwordcloud\u001b[0m \u001b[1;32mimport\u001b[0m \u001b[0mWordCloud\u001b[0m\u001b[1;33m\u001b[0m\u001b[1;33m\u001b[0m\u001b[0m\n\u001b[0m\u001b[0;32m      9\u001b[0m \u001b[1;32mfrom\u001b[0m \u001b[0mcollections\u001b[0m \u001b[1;32mimport\u001b[0m \u001b[0mCounter\u001b[0m\u001b[1;33m\u001b[0m\u001b[1;33m\u001b[0m\u001b[0m\n",
      "\u001b[1;31mModuleNotFoundError\u001b[0m: No module named 'wordcloud'"
     ]
    }
   ],
   "source": [
    "import pandas as pd\n",
    "import numpy as np\n",
    "import nltk\n",
    "import matplotlib.pyplot as plt\n",
    "\n",
    "from autocorrect import spell\n",
    "\n",
    "from wordcloud import WordCloud\n",
    "from collections import Counter"
   ]
  },
  {
   "cell_type": "code",
   "execution_count": null,
   "id": "distributed-korean",
   "metadata": {},
   "outputs": [],
   "source": [
    "from nltk import word_tokenize\n",
    "from nltk import word_tokenize\n",
    "from nltk.corpus import stopwords\n",
    "\n",
    "!pip install autocorrect\n",
    "!pip install wordcloud\n",
    "nltk.download('punkt')\n",
    "\n",
    "nltk.download('stopwords')\n",
    "nltk.download('wordnet')\n",
    "nltk.download('averaged_perceptron_tagger')"
   ]
  },
  {
   "cell_type": "markdown",
   "id": "lovely-cookbook",
   "metadata": {},
   "source": [
    "# 데이터 불러오기"
   ]
  },
  {
   "cell_type": "code",
   "execution_count": null,
   "id": "animal-rwanda",
   "metadata": {},
   "outputs": [],
   "source": [
    "path = 'data/'\n",
    "\n",
    "score_5 = ['eastar_5_en.csv', 'jeju_5_en.csv', 'jin_5_en.csv', 'tway_5_en.csv']\n",
    "score_1 = ['eastar_en_1.csv', 'jeju_en_1.csv', 'jin_en_1.csv', 'tway_en_1.csv']\n",
    "\n",
    "reviews_5 = pd.DataFrame()\n",
    "reviews_1 = pd.DataFrame()\n",
    "\n",
    "for i in range(len(score_5)):\n",
    "    data = pd.read_csv(path + score_5[i])\n",
    "    data = data.iloc[:,1]\n",
    "    reviews_5 = pd.concat([reviews_5, data])\n",
    "    \n",
    "for i in range(len(score_1)):\n",
    "    data = pd.read_csv(path + score_1[i])\n",
    "    data = data.iloc[:,1]\n",
    "    reviews_1 = pd.concat([reviews_1, data])"
   ]
  },
  {
   "cell_type": "code",
   "execution_count": null,
   "id": "recreational-treasure",
   "metadata": {},
   "outputs": [],
   "source": [
    "reviews_5.reset_index(inplace=True, drop=True)\n",
    "reviews_1.reset_index(inplace=True, drop=True)\n",
    "reviews_5.columns = ['reply_5']\n",
    "reviews_1.columns = ['reply_1']\n",
    "reviews_1"
   ]
  },
  {
   "cell_type": "markdown",
   "id": "destroyed-oxford",
   "metadata": {},
   "source": [
    "# 데이터 전처리"
   ]
  },
  {
   "cell_type": "code",
   "execution_count": null,
   "id": "e01c5dac",
   "metadata": {
    "id": "e01c5dac",
    "outputId": "524f6676-365f-440c-a15a-06e9c3998872"
   },
   "outputs": [],
   "source": [
    "# 소문자로 바꾸기\n",
    "for i in range(len(reviews_1)):\n",
    "    reviews_1.loc[i][0] = reviews_1.loc[i][0].lower()\n",
    "for i in range(len(reviews_5)):\n",
    "    reviews_5.loc[i][0] = reviews_5.loc[i][0].lower()\n",
    "reviews_1"
   ]
  },
  {
   "cell_type": "code",
   "execution_count": null,
   "id": "ebd281d0",
   "metadata": {
    "id": "ebd281d0",
    "outputId": "3df0b372-4f0b-4bbb-f1f0-91dd75b8e9aa",
    "scrolled": true
   },
   "outputs": [],
   "source": [
    "# 맞춤법 교정\n",
    "for i in range(len(reviews_5)):\n",
    "    spell(reviews_5.iloc[i,0])\n",
    "for i in range(len(reviews_1)):\n",
    "    spell(reviews_1.iloc[i,0])\n",
    "\n",
    "reviews_1"
   ]
  },
  {
   "cell_type": "code",
   "execution_count": null,
   "id": "ca03daa9",
   "metadata": {
    "id": "ca03daa9",
    "outputId": "93b59706-5034-4246-820d-abddba98effb"
   },
   "outputs": [],
   "source": [
    "nltk.download('punkt')"
   ]
  },
  {
   "cell_type": "code",
   "execution_count": null,
   "id": "2c06bcf2",
   "metadata": {
    "id": "2c06bcf2",
    "outputId": "ccf7dbef-35ef-4dbf-9820-394191e824d2"
   },
   "outputs": [],
   "source": [
    "# 토크나이징\n",
    "tokens_1 = []\n",
    "tokens_5 = []\n",
    "for i in range(len(reviews_1)):\n",
    "    tokens_1.append(word_tokenize(reviews_1.iloc[i,0]))\n",
    "\n",
    "for i in range(len(reviews_5)):\n",
    "    tokens_5.append(word_tokenize(reviews_5.iloc[i,0]))\n",
    "    \n",
    "tokens_1"
   ]
  },
  {
   "cell_type": "code",
   "execution_count": null,
   "id": "75a9ca83",
   "metadata": {
    "id": "75a9ca83",
    "outputId": "d4603764-3893-46cf-c3cd-209da90a3ae7"
   },
   "outputs": [],
   "source": [
    "# 품사 태깅\n",
    "for i in range(len(tokens_1)):\n",
    "    tokens_1[i] = nltk.pos_tag(tokens_1[i])\n",
    "for i in range(len(tokens_5)):\n",
    "    tokens_5[i] = nltk.pos_tag(tokens_5[i])\n",
    "tokens_5"
   ]
  },
  {
   "cell_type": "code",
   "execution_count": null,
   "id": "f78edd37",
   "metadata": {
    "id": "f78edd37",
    "outputId": "6b3d50dd-290a-4ce0-ff9d-0c06b845dce0"
   },
   "outputs": [],
   "source": [
    "# 불용어\n",
    "stop_words = stopwords.words('english')\n",
    "print(stop_words)"
   ]
  },
  {
   "cell_type": "code",
   "execution_count": null,
   "id": "8b0f126e",
   "metadata": {
    "id": "8b0f126e",
    "outputId": "f10e9064-effb-4de0-d1ab-88e8daff44f8"
   },
   "outputs": [],
   "source": [
    "nouns_1 = []\n",
    "nouns_5 = []\n",
    "\n",
    "# 명사 추출\n",
    "for i in range(len(tokens_1)):\n",
    "    li = []\n",
    "    for j in range(len(tokens_1[i])):\n",
    "        if tokens_1[i][j][1][0] == 'N':\n",
    "            li.append(tokens_1[i][j][0])\n",
    "            print('li append', tokens_1[i][j], i, j)\n",
    "    nouns_1.append(li)\n",
    "\n",
    "for i in range(len(tokens_5)):\n",
    "    li = []\n",
    "    for j in range(len(tokens_5[i])):\n",
    "        if tokens_5[i][j][1][0] == 'N':\n",
    "            li.append(tokens_5[i][j][0])\n",
    "            print('li append', tokens_5[i][j], i, j)\n",
    "    nouns_5.append(li)\n",
    "    "
   ]
  },
  {
   "cell_type": "code",
   "execution_count": null,
   "id": "3a001b09",
   "metadata": {
    "id": "3a001b09",
    "outputId": "36cccf32-b7f7-4c4b-c32d-a71b74680c0c"
   },
   "outputs": [],
   "source": [
    "# 불용어 제거\n",
    "words_no_stopwords_1 = []\n",
    "words_no_stopwords_5 = []\n",
    "words_no_stopwords_1.append([word for word in nouns_1 if word not in stop_words])\n",
    "words_no_stopwords_5.append([word for word in nouns_5 if word not in stop_words])\n",
    "words_no_stopwords_1"
   ]
  },
  {
   "cell_type": "code",
   "execution_count": null,
   "id": "31dab996",
   "metadata": {
    "id": "31dab996",
    "outputId": "5f8f0981-5d6e-44d3-fe74-0fac3ba74e9b"
   },
   "outputs": [],
   "source": [
    "noun_list_1 = []\n",
    "noun_list_5 = []\n",
    "\n",
    "# 의미없는 단어 리스트\n",
    "remove_list = ['i','*','..','“','”','’','s','flight','flights','t',\n",
    "              'air','airline','airlines','airport','jin','plane',\n",
    "              'jeju','seoul','japan','korea']\n",
    "# 무의미한 단어 제거\n",
    "for word_list in words_no_stopwords_1:\n",
    "    for word in word_list :\n",
    "        for wd in word:\n",
    "            if wd in remove_list :\n",
    "                continue\n",
    "            else :\n",
    "                noun_list_1.append(wd)\n",
    "                \n",
    "for word_list in words_no_stopwords_5:\n",
    "    for word in word_list :\n",
    "        for wd in word:\n",
    "            if wd in remove_list :\n",
    "                continue\n",
    "            else :\n",
    "                noun_list_5.append(wd)\n",
    "\n",
    "noun_list_1"
   ]
  },
  {
   "cell_type": "code",
   "execution_count": null,
   "id": "4dbf3006",
   "metadata": {
    "id": "4dbf3006",
    "outputId": "3db40f88-7eec-4a11-b168-0d269a992a86"
   },
   "outputs": [],
   "source": [
    "# 1점\n",
    "# 가장 많이 나온 단어부터 40개\n",
    "counts = Counter(noun_list_1)\n",
    "tags = counts.most_common(40)\n",
    "\n",
    "# WordCloud 생성\n",
    "wc = WordCloud(font_path='BMDOHYEON_ttf.ttf',background_color=\"white\", max_font_size=60)\n",
    "cloud = wc.generate_from_frequencies(dict(tags))\n",
    "\n",
    "plt.figure(figsize=(14,10))\n",
    "plt.imshow(cloud,interpolation='lanczos')\n",
    "plt.axis('off')\n",
    "plt.show()"
   ]
  },
  {
   "cell_type": "code",
   "execution_count": null,
   "id": "a94220d5",
   "metadata": {
    "id": "a94220d5",
    "outputId": "993d9986-0eb0-4e89-c1f6-55adefe3e138"
   },
   "outputs": [],
   "source": [
    "# 5점\n",
    "# 가장 많이 나온 단어부터 40개\n",
    "counts = Counter(noun_list_5)\n",
    "tags = counts.most_common(40)\n",
    "\n",
    "# WordCloud 생성\n",
    "wc = WordCloud(font_path='BMDOHYEON_ttf.ttf',background_color=\"white\", max_font_size=60)\n",
    "cloud = wc.generate_from_frequencies(dict(tags))\n",
    "\n",
    "plt.figure(figsize=(14,10))\n",
    "plt.imshow(cloud,interpolation='lanczos')\n",
    "plt.axis('off')\n",
    "plt.show()"
   ]
  }
 ],
 "metadata": {
  "colab": {
   "name": "WordCloud_en.ipynb",
   "provenance": []
  },
  "kernelspec": {
   "display_name": "Python 3",
   "language": "python",
   "name": "python3"
  },
  "language_info": {
   "codemirror_mode": {
    "name": "ipython",
    "version": 3
   },
   "file_extension": ".py",
   "mimetype": "text/x-python",
   "name": "python",
   "nbconvert_exporter": "python",
   "pygments_lexer": "ipython3",
   "version": "3.9.2"
  }
 },
 "nbformat": 4,
 "nbformat_minor": 5
}
